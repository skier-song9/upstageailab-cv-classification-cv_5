{
 "cells": [
  {
   "cell_type": "code",
   "execution_count": 47,
   "id": "2787bec0",
   "metadata": {},
   "outputs": [],
   "source": [
    "import argparse\n",
    "import cv2\n",
    "import albumentations as A\n",
    "import os\n",
    "import pandas as pd\n",
    "from sklearn.model_selection import train_test_split\n",
    "from tqdm import tqdm\n",
    "from albumentations.core.transforms_interface import ImageOnlyTransform\n",
    "import yaml\n",
    "from types import SimpleNamespace\n",
    "import torch\n",
    "import random\n",
    "import numpy as np"
   ]
  },
  {
   "cell_type": "code",
   "execution_count": 48,
   "id": "fbb72eb1",
   "metadata": {},
   "outputs": [
    {
     "name": "stderr",
     "output_type": "stream",
     "text": [
      "/opt/conda/lib/python3.10/site-packages/albumentations/augmentations/transforms.py:1692: UserWarning: Using default interpolation INTER_NEAREST, which is sub-optimal.Please specify interpolation mode for downscale and upscale explicitly.For additional information see this PR https://github.com/albumentations-team/albumentations/pull/584\n",
      "  warnings.warn(\n"
     ]
    }
   ],
   "source": [
    "class Morphological(ImageOnlyTransform):\n",
    "    def __init__(self, scale=(1, 3), operation=\"dilation\", always_apply=False, p=0.5):\n",
    "        super().__init__(always_apply, p)\n",
    "        self.scale = scale\n",
    "        self.operation = operation\n",
    "\n",
    "    def apply(self, img, **params):\n",
    "        # 커널 크기 랜덤 샘플링\n",
    "        k = np.random.randint(self.scale[0], self.scale[1] + 1)\n",
    "        kernel = np.ones((k, k), np.uint8)\n",
    "        \n",
    "        if self.operation == \"dilation\":\n",
    "            return cv2.dilate(img, kernel, iterations=1)\n",
    "        elif self.operation == \"erosion\":\n",
    "            return cv2.erode(img, kernel, iterations=1)\n",
    "        else:\n",
    "            raise ValueError(f\"Unsupported operation: {self.operation}\")\n",
    "\n",
    "    def get_transform_init_args_names(self):\n",
    "        return (\"scale\", \"operation\")\n",
    "\n",
    "A.Morphological = Morphological\n",
    "\n",
    "AUG = {\n",
    "    'eda': A.Compose([\n",
    "        # Brightness, Contrast, ColorJitter\n",
    "        A.ColorJitter(brightness=0.1, contrast=0.07, saturation=0.07, hue=0.07, p=1.0),\n",
    "        # 공간 변형에 대한 증강\n",
    "        A.Affine(\n",
    "            # scale=(0.85, 1.15),\n",
    "            translate_percent=(-0.05,0.05),\n",
    "            rotate=(-20,30),\n",
    "            cval=(255,255,255),\n",
    "            # shear=(-5, 5),\n",
    "            p=1.0\n",
    "        ),\n",
    "        # x,y 좌표 반전 \n",
    "        A.OneOf([\n",
    "            A.Compose([\n",
    "                A.HorizontalFlip(p=1.0),\n",
    "                A.VerticalFlip(p=1.0),\n",
    "            ]),\n",
    "            A.Transpose(p=1),\n",
    "        ], p=0.8),\n",
    "        # Blur & Noise\n",
    "        A.OneOf([\n",
    "            A.GaussianBlur(sigma_limit=(0.5, 2.5), p=1.0),\n",
    "            A.Blur(blur_limit=(3, 9), p=1.0),\n",
    "        ], p=1.0),\n",
    "        A.GaussNoise(var_limit=(0.0025, 0.2), p=1.0),            \n",
    "    ]),\n",
    "    'dilation': A.Compose([\n",
    "        A.Morphological(p=1, scale=(1, 3), operation=\"dilation\"),\n",
    "        # 공간 변형에 대한 증강\n",
    "        A.Affine(\n",
    "            scale=(0.85, 1.15),\n",
    "            translate_percent=(-0.05,0.05),\n",
    "            rotate=(-20,30),\n",
    "            cval=(255,255,255),\n",
    "            # shear=(-5, 5),\n",
    "            p=0.9\n",
    "        ),\n",
    "        # x,y 좌표 반전 \n",
    "        A.OneOf([\n",
    "            A.Compose([\n",
    "                A.HorizontalFlip(p=1.0),\n",
    "                A.VerticalFlip(p=1.0),\n",
    "            ]),\n",
    "            A.Transpose(p=1),\n",
    "        ], p=0.8),    \n",
    "        A.RGBShift(r_shift_limit=15, g_shift_limit=15, b_shift_limit=15, p=1),\n",
    "        A.RandomBrightnessContrast(p=1),\n",
    "    ]),\n",
    "    'erosion': A.Compose([\n",
    "        A.Morphological(p=1, scale=(2, 4), operation=\"erosion\"),\n",
    "        # 공간 변형에 대한 증강\n",
    "        A.Affine(\n",
    "            scale=(0.85, 1.15),\n",
    "            translate_percent=(-0.05,0.05),\n",
    "            rotate=(-20,30),\n",
    "            cval=(255,255,255),\n",
    "            # shear=(-5, 5),\n",
    "            p=0.9\n",
    "        ),\n",
    "        # x,y 좌표 반전 \n",
    "        A.OneOf([\n",
    "            A.Compose([\n",
    "                A.HorizontalFlip(p=1.0),\n",
    "                A.VerticalFlip(p=1.0),\n",
    "            ]),\n",
    "            A.Transpose(p=1),\n",
    "        ], p=0.8),   \n",
    "        A.RGBShift(r_shift_limit=15, g_shift_limit=15, b_shift_limit=15, p=1),\n",
    "        A.RandomBrightnessContrast(p=1),\n",
    "    ]),\n",
    "    'easiest': A.Compose([\n",
    "        A.Rotate(\n",
    "            limit=(-20, 30),\n",
    "            value=(255,255,255),\n",
    "            p=1.0, # 50% 확률로 적용\n",
    "        ),\n",
    "        # x,y 좌표 반전 \n",
    "        A.OneOf([\n",
    "            A.Compose([\n",
    "                A.HorizontalFlip(p=1.0),\n",
    "                A.VerticalFlip(p=1.0),\n",
    "            ]),\n",
    "            A.Transpose(p=1),\n",
    "        ], p=0.8),   \n",
    "    ]),\n",
    "    'stilleasy': A.Compose([\n",
    "        A.Affine(\n",
    "            # scale={\"x\": (0.8, 1.2), \"y\": (0.8, 1.2)}, # X, Y 축 개별 스케일\n",
    "            translate_percent=(-0.15, 0.15), # X, Y 축 개별 이동\n",
    "            rotate=(-15, 20), # 회전 각도\n",
    "            # shear=(-10, 10),  # 전단 변환 (이미지를 기울임)\n",
    "            cval=(255,255,255), # 이미지 외부 = 흰색으로 채우기\n",
    "            p=1.0, # 50% 확률로 적용\n",
    "        ), \n",
    "        # x,y 좌표 반전 > 100% 글자 반전\n",
    "        A.OneOf([\n",
    "            A.HorizontalFlip(p=1.0),\n",
    "            A.VerticalFlip(p=1.0),\n",
    "            A.Transpose(p=1),\n",
    "        ], p=0.8),\n",
    "    ]),\n",
    "    'basic': A.Compose([ ### 색조/밝기/대비 변화를 최소화하고 기하학전 변환에 초점을 둔 약한 증강. 노이즈/블러도 없음.\n",
    "        # 1. 픽셀 값 기반 변환 (이미지 자체의 픽셀 값에 영향을 줌)\n",
    "        # 이 변환들은 기하학적 변환 전에 적용하는 것이 좋습니다.\n",
    "        A.RGBShift(\n",
    "            r_shift_limit=20,  # Red 채널 최대 변화량 (-20 ~ +20)\n",
    "            g_shift_limit=20,  # Green 채널 최대 변화량 (-20 ~ +20)\n",
    "            b_shift_limit=20,  # Blue 채널 최대 변화량 (-20 ~ +20)\n",
    "            p=0.5 # 50% 확률로 적용\n",
    "        ),\n",
    "        A.RandomBrightnessContrast(\n",
    "            brightness_limit=0.2, # 밝기 변화량 (-0.2 ~ +0.2)\n",
    "            contrast_limit=0.2,   # 대비 변화량 (-0.2 ~ +0.2)\n",
    "            p=0.5 # 50% 확률로 적용\n",
    "        ),\n",
    "        \n",
    "        # 2. 기하학적 변환 (이미지의 형태, 위치, 크기에 영향을 줌)\n",
    "        # 이 변환들은 픽셀 기반 변환 이후에 적용하여 일관성을 유지하는 것이 좋습니다.\n",
    "        # Transpose는 이미지를 전치(transpose)합니다 (행과 열을 바꿉니다).\n",
    "        # 이는 이미지의 90도 회전과 대칭 조합과 유사하게 작동합니다.\n",
    "        # ShiftScaleRotate와 함께 사용하면 더 다양한 방향의 변형을 줄 수 있습니다.\n",
    "        A.Affine(\n",
    "            scale={\"x\": (0.8, 1.2), \"y\": (0.8, 1.2)}, # X, Y 축 개별 스케일\n",
    "            translate_percent={\"x\": (-0.1, 0.1), \"y\": (-0.1, 0.1)}, # X, Y 축 개별 이동\n",
    "            rotate=(-15, 20), # 회전 각도\n",
    "            # shear=(-10, 10),  # 전단 변환 (이미지를 기울임)\n",
    "            p=0.5, # 50% 확률로 적용\n",
    "            cval=(255,255,255) # 이미지 외부 = 흰색으로 채우기\n",
    "        ),\n",
    "        # x,y 좌표 반전 \n",
    "        A.OneOf([\n",
    "            A.Compose([\n",
    "                A.HorizontalFlip(p=1.0),\n",
    "                A.VerticalFlip(p=1.0),\n",
    "            ]),\n",
    "            A.Transpose(p=1),\n",
    "        ], p=0.8),          \n",
    "    ]),\n",
    "    'middle': A.Compose([ # 노이즈/블러 + 기하학적 변환에 초점을 둔 중간 난이도의 변환\n",
    "        \n",
    "        # 노이즈 효과 (둘 중 하나만 적용, 문서 품질 저하를 시뮬레이션)\n",
    "        A.OneOf([\n",
    "            A.GaussNoise(var_limit=(0.01, 0.2), p=1.0),\n",
    "            A.ISONoise(color_shift=(0.01, 0.05), intensity=(0.1, 0.5), p=1.0)\n",
    "        ], p=0.6), # 노이즈도 너무 강하면 인식 어렵기에 적당한 확률 (0.2 유지)\n",
    "\n",
    "        # 2. 기하학적 변환 및 문서 특화 변형 (형태 왜곡, 시점 변화)\n",
    "        # Perspective, GridDistortion, ElasticTransform은 강한 비선형 변환이므로\n",
    "        # OneOf로 묶거나 각자의 확률을 낮춰 과도한 왜곡을 방지합니다.\n",
    "        # 여기서는 문서의 \"찌그러짐/왜곡\"을 시뮬레이션하기 위해 OneOf로 묶는 것이 효과적입니다.\n",
    "        A.OneOf([\n",
    "            # 문서 원근 변환 > 아주 미세하게만 변화\n",
    "            A.Perspective(scale=(0.02, 0.04), pad_val=(255,255,255), p=1.0), \n",
    "            # 그리드 왜곡 (num_steps=5, distort_limit=0.1 적절)\n",
    "            A.GridDistortion(num_steps=5, distort_limit=0.2, p=1.0),\n",
    "        ], p=0.3), # 이 세 가지 강한 왜곡 중 하나를 30% 확률로 적용 (개별 p값이 1.0이므로 OneOf의 p가 중요)\n",
    "        # 원본에서 각 p=0.3, 0.2, 0.1로 각각 적용되었으나, 이제는 OneOf로 묶어 총 적용 확률을 0.3으로 설정했습니다.\n",
    "        # 이렇게 하면 세 가지 중복되는 왜곡 효과를 동시에 얻는 경우를 줄여줍니다.\n",
    "        \n",
    "        # 기본 기하학적 변환 (Shift, Scale, Rotate)\n",
    "        # 문서의 경우 회전 제한이 중요 (원본에서 min(config.rotation_limit, 15)로 제한)\n",
    "        A.Affine(\n",
    "            # scale=(0.8, 1.2),\n",
    "            translate_percent=(-0.25, 0.25),\n",
    "            rotate=(-120, 120), # 회전 각도\n",
    "            # shear=(-5, 5),  # 전단 변환 (이미지를 기울임)\n",
    "            p=1.0, \n",
    "            cval=(255,255,255) # 이미지 외부 = 흰색으로 채우기\n",
    "        ),\n",
    "\n",
    "        # x,y 좌표 반전 > 100% 글자 반전\n",
    "        A.OneOf([\n",
    "            A.HorizontalFlip(p=1.0),\n",
    "            A.VerticalFlip(p=1.0),\n",
    "            A.Transpose(p=1),\n",
    "        ], p=0.8),\n",
    "    ]),\n",
    "    'aggressive': A.Compose([\n",
    "        # 정보 가리기 및 혼합 (Occlusion & Mixing)\n",
    "        # Train의 마스킹과 유사한 효과를 주어 모델이 특정 영역에 의존하지 않도록함\n",
    "        A.CoarseDropout(\n",
    "            min_holes=3,\n",
    "            max_holes=5,\n",
    "            min_height=10,\n",
    "            max_height=35,\n",
    "            min_width=5,\n",
    "            max_width=45,\n",
    "            fill_value=(0,0,0),\n",
    "            p=0.9\n",
    "        ),\n",
    "        # 강력한 기하학적 변환\n",
    "        A.OneOf([\n",
    "            # Affine의 범위를 크게 늘리고, Perspective 변환을 추가하여 왜곡 시뮬레이션\n",
    "            A.Affine(\n",
    "                scale=(0.7, 1.3),\n",
    "                translate_percent=(-0.15,0.2),\n",
    "                rotate=(-45, 45), # 회전 각도\n",
    "                shear=(-10, 10),  # 전단 변환 (이미지를 기울임)\n",
    "                p=1.0, # 50% 확률로 적용\n",
    "                cval=(255,255,255) # 이미지 외부 = 흰색으로 채우기\n",
    "            ),\n",
    "            A.Perspective(scale=(0.05, 0.1),pad_val=(255,255,255),p=1.0),\n",
    "        ], p=0.9),\n",
    "        # x,y 좌표 반전 \n",
    "        A.OneOf([\n",
    "            A.Compose([\n",
    "                A.HorizontalFlip(p=1.0),\n",
    "                A.VerticalFlip(p=1.0),\n",
    "            ]),\n",
    "            A.Transpose(p=1),\n",
    "        ], p=0.8),\n",
    "        # 노이즈 효과 (둘 중 하나만 적용, 문서 품질 저하를 시뮬레이션)\n",
    "        A.OneOf([\n",
    "            A.GaussNoise(var_limit=(0.01, 0.3), p=1.0), \n",
    "            A.ISONoise(color_shift=(0.01, 0.2), intensity=(0.1, 0.5), p=1.0)\n",
    "        ], p=0.3), # 노이즈도 너무 강하면 인식 어렵기에 적당한 확률 \n",
    "        A.OneOf([\n",
    "            # 스캔/촬영 시 발생할 수 있는 블러 효과\n",
    "            A.GaussianBlur(blur_limit=(3, 7), p=1.0),\n",
    "            A.MotionBlur(blur_limit=(3, 7), p=1.0),\n",
    "            # 이미지 품질을 낮춰 압축/해상도 저하 효과 모방\n",
    "            A.Downscale(\n",
    "                scale_min=0.5,\n",
    "                scale_max=0.75,\n",
    "                p=1.0\n",
    "            ),\n",
    "        ], p=0.5),\n",
    "\n",
    "        # 색상 및 대비의 급격한 변화\n",
    "        A.OneOf([\n",
    "            # 문서의 조명, 스캔 품질 변화 모방\n",
    "            A.RandomBrightnessContrast(brightness_limit=0.3, contrast_limit=0.3, p=1.0),\n",
    "            A.ColorJitter(brightness=0.3, contrast=0.3, saturation=0.3, hue=0.1, p=1.0),\n",
    "            # 히스토그램 평활화를 통해 대비를 극적으로 변경\n",
    "            A.CLAHE(clip_limit=4.0, tile_grid_size=(8, 8), p=1.0),\n",
    "        ], p=0.8),\n",
    "    ]),\n",
    "}\n"
   ]
  },
  {
   "cell_type": "code",
   "execution_count": 49,
   "id": "0e8dd6f9",
   "metadata": {},
   "outputs": [],
   "source": [
    "def augment_offline_dataset(cfg, train_df, val_df, train_targets_goal, val_targets_goal):\n",
    "    \"\"\"\n",
    "    train_targets_goal, val_targets_goal: 각 데이터셋별 클래스당 목표 이미지 수 (정수)\n",
    "    \n",
    "    train_df, val_df: 원본 train, val 데이터프레임\n",
    "    \n",
    "    증강 이미지들은 aug_train, aug_val 폴더에 저장되고,\n",
    "    증강 후 데이터프레임도 반환\n",
    "    \"\"\"\n",
    "    data_dir = \"/data/ephemeral/home/upstageailab-cv-classification-cv_5/data\"\n",
    "    \n",
    "    # 증강된 모든 이미지 저장 폴더 생성\n",
    "    aug_train_dir = os.path.join(data_dir, \"aug_train\")\n",
    "    aug_val_dir = os.path.join(data_dir, \"aug_val\")\n",
    "    os.makedirs(aug_train_dir, exist_ok=True)\n",
    "    os.makedirs(aug_val_dir, exist_ok=True)\n",
    "    \n",
    "    # 증강 기법 리스트\n",
    "    offline_aug_policies = ['eda', 'easiest', 'stilleasy', 'middle']\n",
    "    \n",
    "    # 새로운 증강된 ID를 생성하기 위한 카운터 초기화\n",
    "    aug_id_counters = {}\n",
    "    \n",
    "    # 동적 이미지명 설정 함수\n",
    "    def get_new_aug_id(orig_id, aug_name, split_tag):\n",
    "        base = f\"{split_tag}_{aug_name}_{orig_id.split('.')[0]}\"\n",
    "        cnt = aug_id_counters.get(base, 0) + 1\n",
    "        aug_id_counters[base] = cnt\n",
    "        return f\"{base}_{cnt}\"\n",
    "\n",
    "    # 데이터 오프라인 증강 함수\n",
    "    def augment_class_subset(df, target_goal, save_dir, split_tag):\n",
    "        augmented_ids = []\n",
    "        augmented_labels = []\n",
    "        \n",
    "        # 사용하려는 증강 기법 개수\n",
    "        n_policies = len(offline_aug_policies)\n",
    "\n",
    "        for cls in df['target'].unique():\n",
    "            cls_df = df[df['target'] == cls].reset_index(drop=True)\n",
    "            current_count = len(cls_df)\n",
    "            print(\"\\n현재 개수:\", current_count)\n",
    "            to_generate = target_goal - current_count\n",
    "            if to_generate <= 0:\n",
    "                continue\n",
    "            print(\"목표 증강 개수:\", to_generate)\n",
    "\n",
    "            # 각 증강별 목표 개수 (균등 분할)\n",
    "            base_quota = to_generate // n_policies\n",
    "            remainder = to_generate % n_policies\n",
    "\n",
    "            # 각 증강별 진행 예정 횟수 저장\n",
    "            aug_counts = [base_quota] * n_policies\n",
    "            for i in range(remainder):\n",
    "                aug_counts[i] += 1\n",
    "\n",
    "            # 이 클래스의 증강한 이미지 수\n",
    "            total_augmented_count = 0\n",
    "\n",
    "            for aug_idx, aug_name in enumerate(offline_aug_policies):\n",
    "                # 이번 증강의 증강 진행 예정 횟수\n",
    "                n_aug = aug_counts[aug_idx]\n",
    "                if n_aug == 0:\n",
    "                    continue\n",
    "                \n",
    "                # 이 클래스의 증강한 이미지 수\n",
    "                augmented_count = 0\n",
    "\n",
    "                sampled_df = cls_df.sample(n=n_aug, replace=True, random_state=cfg.random_seed).reset_index(drop=True)\n",
    "\n",
    "                aug_transform = AUG.get(aug_name)\n",
    "                if aug_transform is None:\n",
    "                    raise ValueError(f\"'{aug_name}' 증강이 AUG 딕셔너리에 정의되어있지 않습니다.\")\n",
    "\n",
    "                for idx, row in tqdm(sampled_df.iterrows(), total=len(sampled_df), desc=f\"Augment class {cls} with {aug_name}\"):\n",
    "                    orig_id = row['ID']\n",
    "                    orig_path = os.path.join(data_dir, 'train', orig_id)\n",
    "\n",
    "                    img = cv2.imread(orig_path)\n",
    "                    if img is None:\n",
    "                        print(f\"⚠️ 이미지 로드 실패: {orig_path}\")\n",
    "                        continue\n",
    "\n",
    "                    img = cv2.cvtColor(img, cv2.COLOR_BGR2RGB)\n",
    "                    augmented = aug_transform(image=img)\n",
    "                    aug_img = augmented['image']\n",
    "                    aug_img = cv2.cvtColor(aug_img, cv2.COLOR_RGB2BGR)\n",
    "\n",
    "                    new_id = get_new_aug_id(orig_id, aug_name, split_tag=save_dir.split('/')[-1]) + '.jpg'\n",
    "                    save_path = os.path.join(save_dir, new_id)\n",
    "                    cv2.imwrite(save_path, aug_img)\n",
    "\n",
    "                    augmented_ids.append(new_id)\n",
    "                    augmented_labels.append(cls)\n",
    "                    augmented_count += 1\n",
    "                \n",
    "                total_augmented_count += augmented_count\n",
    "\n",
    "                # # 혹시나 증강이 부족하다면 추가로 진행\n",
    "                # if augmented_count < to_generate:\n",
    "                #     shortage = to_generate - augmented_count\n",
    "                #     for _ in range(shortage):\n",
    "                #         aug_name = random.choice(offline_aug_policies)\n",
    "                #         row = cls_df.sample(n=1, replace=True, random_state=cfg.random_seed).iloc[0]\n",
    "                #         orig_id = row['ID']\n",
    "                #         orig_path = os.path.join(data_dir, 'train', orig_id)\n",
    "\n",
    "                #         img = cv2.imread(orig_path)\n",
    "                #         if img is None:\n",
    "                #             continue\n",
    "\n",
    "                #         img = cv2.cvtColor(img, cv2.COLOR_BGR2RGB)\n",
    "                #         aug_transform = AUG.get(aug_name)\n",
    "                #         if aug_transform is None:\n",
    "                #             raise ValueError(f\"Augmentation '{aug_name}' not found in AUG dict.\")\n",
    "\n",
    "                #         augmented = aug_transform(image=img)\n",
    "                #         aug_img = augmented['image']\n",
    "                #         aug_img = cv2.cvtColor(aug_img, cv2.COLOR_RGB2BGR)\n",
    "\n",
    "                #         new_id = get_new_aug_id(orig_id) + '.jpg'\n",
    "                #         save_path = os.path.join(save_dir, new_id)\n",
    "                #         cv2.imwrite(save_path, aug_img)\n",
    "\n",
    "                #         augmented_ids.append(new_id)\n",
    "                #         augmented_labels.append(cls)\n",
    "                #         augmented_count += 1\n",
    "\n",
    "                print(f\"{cls} 클래스 : 총 {augmented_count} 개의 이미지 {offline_aug_policies[aug_idx]} 증강\\n\")\n",
    "            print(f\"{cls} 클래스 : 총 {total_augmented_count} 개의 이미지 증강됨\\n\")\n",
    "\n",
    "        return augmented_ids, augmented_labels\n",
    "\n",
    "# train, val 각각 증강 수행\n",
    "    train_aug_ids, train_aug_labels = augment_class_subset(train_df, train_targets_goal, aug_train_dir, split_tag='train')\n",
    "    val_aug_ids, val_aug_labels = augment_class_subset(val_df, val_targets_goal, aug_val_dir, split_tag='val')\n",
    "    \n",
    "    # 기존 원본 이미지도 각 폴더로 복사 (덮어쓰기 없이)\n",
    "    import shutil\n",
    "    \n",
    "    def copy_original_images(df, save_dir):\n",
    "        for idx, row in tqdm(df.iterrows(), total=len(df), desc=f\"Copy original images to {save_dir}\"):\n",
    "            src = os.path.join(data_dir, 'train', row['ID'])\n",
    "            dst = os.path.join(save_dir, row['ID'])\n",
    "            if not os.path.exists(dst):\n",
    "                shutil.copy2(src, dst)\n",
    "    \n",
    "    copy_original_images(train_df, aug_train_dir)\n",
    "    copy_original_images(val_df, aug_val_dir)\n",
    "    \n",
    "    # 데이터프레임 생성 및 반환 (기존 + 증강)\n",
    "    train_aug_df = pd.DataFrame({\"ID\": train_aug_ids, \"target\": train_aug_labels})\n",
    "    val_aug_df = pd.DataFrame({\"ID\": val_aug_ids, \"target\": val_aug_labels})\n",
    "    \n",
    "    train_df_aug = pd.concat([train_df, train_aug_df], ignore_index=True).reset_index(drop=True)\n",
    "    val_df_aug = pd.concat([val_df, val_aug_df], ignore_index=True).reset_index(drop=True)\n",
    "    \n",
    "    # CSV 저장\n",
    "    train_df_aug.to_csv(os.path.join(data_dir, \"train_plus_augmented.csv\"), index=False)\n",
    "    val_df_aug.to_csv(os.path.join(data_dir, \"val_plus_augmented.csv\"), index=False)\n",
    "    \n",
    "    print(f\"✅ 오프라인 증강 완료\")\n",
    "    print(f\"✅ 목표 훈련 데이터 수 : {train_targets_goal * 17}  증강 완료된 훈련 데이터 수 : {len(train_df_aug)}\")\n",
    "    print(f\"✅ 목표 검증 데이터 수 : {val_targets_goal * 17}  증강 완료된 검증 데이터 수 : {len(val_df_aug)}\")"
   ]
  },
  {
   "cell_type": "code",
   "execution_count": 50,
   "id": "b6a7e2c8",
   "metadata": {},
   "outputs": [],
   "source": [
    "def load_config(config_path='./config.yaml'):\n",
    "    \"\"\".yaml 설정 파일 읽기\n",
    "\n",
    "    :param str config_path: _description_, defaults to './config.yaml'\n",
    "    :return _type_: _description_\n",
    "    \"\"\"\n",
    "    with open(config_path, 'r') as file:\n",
    "        cfg = yaml.safe_load(file)\n",
    "    return SimpleNamespace(**cfg)"
   ]
  },
  {
   "cell_type": "code",
   "execution_count": 51,
   "id": "00c9bd71",
   "metadata": {},
   "outputs": [],
   "source": [
    "def set_seed(seed: int = 256):\n",
    "    \"\"\"랜덤성 제어 함수\n",
    "\n",
    "    :param int seed: _description_, defaults to 256\n",
    "    \"\"\"\n",
    "    random.seed(seed)\n",
    "    np.random.seed(seed)\n",
    "    torch.manual_seed(seed)\n",
    "    torch.cuda.manual_seed(seed)\n",
    "    torch.cuda.manual_seed_all(seed)\n",
    "    torch.backends.cudnn.deterministic = True\n",
    "    torch.backends.cudnn.benchmark = False"
   ]
  },
  {
   "cell_type": "code",
   "execution_count": 52,
   "id": "5ae21f52",
   "metadata": {},
   "outputs": [],
   "source": [
    "# python 파일 실행할 때 config.yaml 파일 이름을 입력받아서 설정 파일을 지정한다.\n",
    "parser = argparse.ArgumentParser(description=\"Run deep learning training with specified configuration.\")\n",
    "parser.add_argument(\n",
    "    '--config',\n",
    "    type=str,\n",
    "    default='config_v2.yaml',  # 기본값\n",
    "    help='Name of the configuration YAML file (e.g., config.yaml, experiment_A.yaml)'\n",
    ")\n",
    "\n",
    "args, unknown = parser.parse_known_args()  # ← 여기만 수정\n",
    "\n",
    "# Yaml 파일 읽기\n",
    "try:\n",
    "    base_dir = os.path.dirname(os.path.abspath(__file__))\n",
    "except NameError:\n",
    "    base_dir = os.getcwd()\n",
    "\n",
    "config_path = os.path.join(base_dir, args.config)\n",
    "cfg = load_config(config_path=config_path)\n",
    "\n",
    "# 랜덤성 제어\n",
    "set_seed(cfg.random_seed)"
   ]
  },
  {
   "cell_type": "code",
   "execution_count": 53,
   "id": "e39560ff",
   "metadata": {},
   "outputs": [
    {
     "name": "stdout",
     "output_type": "stream",
     "text": [
      "\n",
      "현재 개수: 85\n",
      "목표 증강 개수: 1615\n"
     ]
    },
    {
     "name": "stderr",
     "output_type": "stream",
     "text": [
      "Augment class 5 with eda:   0%|          | 0/404 [00:00<?, ?it/s]"
     ]
    },
    {
     "name": "stderr",
     "output_type": "stream",
     "text": [
      "Augment class 5 with eda: 100%|██████████| 404/404 [00:10<00:00, 37.29it/s]\n"
     ]
    },
    {
     "name": "stdout",
     "output_type": "stream",
     "text": [
      "5 클래스 : 총 404 개의 이미지 eda 증강\n",
      "\n"
     ]
    },
    {
     "name": "stderr",
     "output_type": "stream",
     "text": [
      "Augment class 5 with easiest: 100%|██████████| 404/404 [00:01<00:00, 230.18it/s]\n"
     ]
    },
    {
     "name": "stdout",
     "output_type": "stream",
     "text": [
      "5 클래스 : 총 404 개의 이미지 easiest 증강\n",
      "\n"
     ]
    },
    {
     "name": "stderr",
     "output_type": "stream",
     "text": [
      "Augment class 5 with stilleasy: 100%|██████████| 404/404 [00:01<00:00, 246.89it/s]\n"
     ]
    },
    {
     "name": "stdout",
     "output_type": "stream",
     "text": [
      "5 클래스 : 총 404 개의 이미지 stilleasy 증강\n",
      "\n"
     ]
    },
    {
     "name": "stderr",
     "output_type": "stream",
     "text": [
      "Augment class 5 with middle: 100%|██████████| 403/403 [00:07<00:00, 55.48it/s]\n"
     ]
    },
    {
     "name": "stdout",
     "output_type": "stream",
     "text": [
      "5 클래스 : 총 403 개의 이미지 middle 증강\n",
      "\n",
      "5 클래스 : 총 1615 개의 이미지 증강됨\n",
      "\n",
      "\n",
      "현재 개수: 85\n",
      "목표 증강 개수: 1615\n"
     ]
    },
    {
     "name": "stderr",
     "output_type": "stream",
     "text": [
      "Augment class 12 with eda: 100%|██████████| 404/404 [00:10<00:00, 37.28it/s]\n"
     ]
    },
    {
     "name": "stdout",
     "output_type": "stream",
     "text": [
      "12 클래스 : 총 404 개의 이미지 eda 증강\n",
      "\n"
     ]
    },
    {
     "name": "stderr",
     "output_type": "stream",
     "text": [
      "Augment class 12 with easiest: 100%|██████████| 404/404 [00:01<00:00, 246.00it/s]\n"
     ]
    },
    {
     "name": "stdout",
     "output_type": "stream",
     "text": [
      "12 클래스 : 총 404 개의 이미지 easiest 증강\n",
      "\n"
     ]
    },
    {
     "name": "stderr",
     "output_type": "stream",
     "text": [
      "Augment class 12 with stilleasy: 100%|██████████| 404/404 [00:01<00:00, 246.27it/s]\n"
     ]
    },
    {
     "name": "stdout",
     "output_type": "stream",
     "text": [
      "12 클래스 : 총 404 개의 이미지 stilleasy 증강\n",
      "\n"
     ]
    },
    {
     "name": "stderr",
     "output_type": "stream",
     "text": [
      "Augment class 12 with middle: 100%|██████████| 403/403 [00:07<00:00, 52.74it/s]\n"
     ]
    },
    {
     "name": "stdout",
     "output_type": "stream",
     "text": [
      "12 클래스 : 총 403 개의 이미지 middle 증강\n",
      "\n",
      "12 클래스 : 총 1615 개의 이미지 증강됨\n",
      "\n",
      "\n",
      "현재 개수: 84\n",
      "목표 증강 개수: 1616\n"
     ]
    },
    {
     "name": "stderr",
     "output_type": "stream",
     "text": [
      "Augment class 3 with eda: 100%|██████████| 404/404 [00:10<00:00, 37.75it/s]\n"
     ]
    },
    {
     "name": "stdout",
     "output_type": "stream",
     "text": [
      "3 클래스 : 총 404 개의 이미지 eda 증강\n",
      "\n"
     ]
    },
    {
     "name": "stderr",
     "output_type": "stream",
     "text": [
      "Augment class 3 with easiest: 100%|██████████| 404/404 [00:01<00:00, 238.94it/s]\n"
     ]
    },
    {
     "name": "stdout",
     "output_type": "stream",
     "text": [
      "3 클래스 : 총 404 개의 이미지 easiest 증강\n",
      "\n"
     ]
    },
    {
     "name": "stderr",
     "output_type": "stream",
     "text": [
      "Augment class 3 with stilleasy: 100%|██████████| 404/404 [00:01<00:00, 263.38it/s]\n"
     ]
    },
    {
     "name": "stdout",
     "output_type": "stream",
     "text": [
      "3 클래스 : 총 404 개의 이미지 stilleasy 증강\n",
      "\n"
     ]
    },
    {
     "name": "stderr",
     "output_type": "stream",
     "text": [
      "Augment class 3 with middle: 100%|██████████| 404/404 [00:07<00:00, 54.37it/s]\n"
     ]
    },
    {
     "name": "stdout",
     "output_type": "stream",
     "text": [
      "3 클래스 : 총 404 개의 이미지 middle 증강\n",
      "\n",
      "3 클래스 : 총 1616 개의 이미지 증강됨\n",
      "\n",
      "\n",
      "현재 개수: 85\n",
      "목표 증강 개수: 1615\n"
     ]
    },
    {
     "name": "stderr",
     "output_type": "stream",
     "text": [
      "Augment class 15 with eda: 100%|██████████| 404/404 [00:10<00:00, 37.11it/s]\n"
     ]
    },
    {
     "name": "stdout",
     "output_type": "stream",
     "text": [
      "15 클래스 : 총 404 개의 이미지 eda 증강\n",
      "\n"
     ]
    },
    {
     "name": "stderr",
     "output_type": "stream",
     "text": [
      "Augment class 15 with easiest: 100%|██████████| 404/404 [00:01<00:00, 224.92it/s]\n"
     ]
    },
    {
     "name": "stdout",
     "output_type": "stream",
     "text": [
      "15 클래스 : 총 404 개의 이미지 easiest 증강\n",
      "\n"
     ]
    },
    {
     "name": "stderr",
     "output_type": "stream",
     "text": [
      "Augment class 15 with stilleasy: 100%|██████████| 404/404 [00:01<00:00, 237.21it/s]\n"
     ]
    },
    {
     "name": "stdout",
     "output_type": "stream",
     "text": [
      "15 클래스 : 총 404 개의 이미지 stilleasy 증강\n",
      "\n"
     ]
    },
    {
     "name": "stderr",
     "output_type": "stream",
     "text": [
      "Augment class 15 with middle: 100%|██████████| 403/403 [00:07<00:00, 54.61it/s]\n"
     ]
    },
    {
     "name": "stdout",
     "output_type": "stream",
     "text": [
      "15 클래스 : 총 403 개의 이미지 middle 증강\n",
      "\n",
      "15 클래스 : 총 1615 개의 이미지 증강됨\n",
      "\n",
      "\n",
      "현재 개수: 85\n",
      "목표 증강 개수: 1615\n"
     ]
    },
    {
     "name": "stderr",
     "output_type": "stream",
     "text": [
      "Augment class 11 with eda: 100%|██████████| 404/404 [00:10<00:00, 37.26it/s]\n"
     ]
    },
    {
     "name": "stdout",
     "output_type": "stream",
     "text": [
      "11 클래스 : 총 404 개의 이미지 eda 증강\n",
      "\n"
     ]
    },
    {
     "name": "stderr",
     "output_type": "stream",
     "text": [
      "Augment class 11 with easiest: 100%|██████████| 404/404 [00:01<00:00, 225.29it/s]\n"
     ]
    },
    {
     "name": "stdout",
     "output_type": "stream",
     "text": [
      "11 클래스 : 총 404 개의 이미지 easiest 증강\n",
      "\n"
     ]
    },
    {
     "name": "stderr",
     "output_type": "stream",
     "text": [
      "Augment class 11 with stilleasy: 100%|██████████| 404/404 [00:01<00:00, 237.95it/s]\n"
     ]
    },
    {
     "name": "stdout",
     "output_type": "stream",
     "text": [
      "11 클래스 : 총 404 개의 이미지 stilleasy 증강\n",
      "\n"
     ]
    },
    {
     "name": "stderr",
     "output_type": "stream",
     "text": [
      "Augment class 11 with middle: 100%|██████████| 403/403 [00:07<00:00, 52.45it/s]\n"
     ]
    },
    {
     "name": "stdout",
     "output_type": "stream",
     "text": [
      "11 클래스 : 총 403 개의 이미지 middle 증강\n",
      "\n",
      "11 클래스 : 총 1615 개의 이미지 증강됨\n",
      "\n",
      "\n",
      "현재 개수: 86\n",
      "목표 증강 개수: 1614\n"
     ]
    },
    {
     "name": "stderr",
     "output_type": "stream",
     "text": [
      "Augment class 7 with eda: 100%|██████████| 404/404 [00:10<00:00, 37.32it/s]\n"
     ]
    },
    {
     "name": "stdout",
     "output_type": "stream",
     "text": [
      "7 클래스 : 총 404 개의 이미지 eda 증강\n",
      "\n"
     ]
    },
    {
     "name": "stderr",
     "output_type": "stream",
     "text": [
      "Augment class 7 with easiest: 100%|██████████| 404/404 [00:01<00:00, 253.55it/s]\n"
     ]
    },
    {
     "name": "stdout",
     "output_type": "stream",
     "text": [
      "7 클래스 : 총 404 개의 이미지 easiest 증강\n",
      "\n"
     ]
    },
    {
     "name": "stderr",
     "output_type": "stream",
     "text": [
      "Augment class 7 with stilleasy: 100%|██████████| 403/403 [00:01<00:00, 264.01it/s]\n"
     ]
    },
    {
     "name": "stdout",
     "output_type": "stream",
     "text": [
      "7 클래스 : 총 403 개의 이미지 stilleasy 증강\n",
      "\n"
     ]
    },
    {
     "name": "stderr",
     "output_type": "stream",
     "text": [
      "Augment class 7 with middle: 100%|██████████| 403/403 [00:07<00:00, 55.86it/s]\n"
     ]
    },
    {
     "name": "stdout",
     "output_type": "stream",
     "text": [
      "7 클래스 : 총 403 개의 이미지 middle 증강\n",
      "\n",
      "7 클래스 : 총 1614 개의 이미지 증강됨\n",
      "\n",
      "\n",
      "현재 개수: 85\n",
      "목표 증강 개수: 1615\n"
     ]
    },
    {
     "name": "stderr",
     "output_type": "stream",
     "text": [
      "Augment class 9 with eda: 100%|██████████| 404/404 [00:11<00:00, 36.56it/s]\n"
     ]
    },
    {
     "name": "stdout",
     "output_type": "stream",
     "text": [
      "9 클래스 : 총 404 개의 이미지 eda 증강\n",
      "\n"
     ]
    },
    {
     "name": "stderr",
     "output_type": "stream",
     "text": [
      "Augment class 9 with easiest: 100%|██████████| 404/404 [00:01<00:00, 221.05it/s]\n"
     ]
    },
    {
     "name": "stdout",
     "output_type": "stream",
     "text": [
      "9 클래스 : 총 404 개의 이미지 easiest 증강\n",
      "\n"
     ]
    },
    {
     "name": "stderr",
     "output_type": "stream",
     "text": [
      "Augment class 9 with stilleasy: 100%|██████████| 404/404 [00:01<00:00, 239.33it/s]\n"
     ]
    },
    {
     "name": "stdout",
     "output_type": "stream",
     "text": [
      "9 클래스 : 총 404 개의 이미지 stilleasy 증강\n",
      "\n"
     ]
    },
    {
     "name": "stderr",
     "output_type": "stream",
     "text": [
      "Augment class 9 with middle: 100%|██████████| 403/403 [00:07<00:00, 55.52it/s]\n"
     ]
    },
    {
     "name": "stdout",
     "output_type": "stream",
     "text": [
      "9 클래스 : 총 403 개의 이미지 middle 증강\n",
      "\n",
      "9 클래스 : 총 1615 개의 이미지 증강됨\n",
      "\n",
      "\n",
      "현재 개수: 85\n",
      "목표 증강 개수: 1615\n"
     ]
    },
    {
     "name": "stderr",
     "output_type": "stream",
     "text": [
      "Augment class 6 with eda: 100%|██████████| 404/404 [00:11<00:00, 36.31it/s]\n"
     ]
    },
    {
     "name": "stdout",
     "output_type": "stream",
     "text": [
      "6 클래스 : 총 404 개의 이미지 eda 증강\n",
      "\n"
     ]
    },
    {
     "name": "stderr",
     "output_type": "stream",
     "text": [
      "Augment class 6 with easiest: 100%|██████████| 404/404 [00:01<00:00, 207.22it/s]\n"
     ]
    },
    {
     "name": "stdout",
     "output_type": "stream",
     "text": [
      "6 클래스 : 총 404 개의 이미지 easiest 증강\n",
      "\n"
     ]
    },
    {
     "name": "stderr",
     "output_type": "stream",
     "text": [
      "Augment class 6 with stilleasy: 100%|██████████| 404/404 [00:01<00:00, 220.53it/s]\n"
     ]
    },
    {
     "name": "stdout",
     "output_type": "stream",
     "text": [
      "6 클래스 : 총 404 개의 이미지 stilleasy 증강\n",
      "\n"
     ]
    },
    {
     "name": "stderr",
     "output_type": "stream",
     "text": [
      "Augment class 6 with middle: 100%|██████████| 403/403 [00:07<00:00, 56.42it/s]\n"
     ]
    },
    {
     "name": "stdout",
     "output_type": "stream",
     "text": [
      "6 클래스 : 총 403 개의 이미지 middle 증강\n",
      "\n",
      "6 클래스 : 총 1615 개의 이미지 증강됨\n",
      "\n",
      "\n",
      "현재 개수: 85\n",
      "목표 증강 개수: 1615\n"
     ]
    },
    {
     "name": "stderr",
     "output_type": "stream",
     "text": [
      "Augment class 10 with eda: 100%|██████████| 404/404 [00:10<00:00, 37.21it/s]\n"
     ]
    },
    {
     "name": "stdout",
     "output_type": "stream",
     "text": [
      "10 클래스 : 총 404 개의 이미지 eda 증강\n",
      "\n"
     ]
    },
    {
     "name": "stderr",
     "output_type": "stream",
     "text": [
      "Augment class 10 with easiest: 100%|██████████| 404/404 [00:01<00:00, 243.77it/s]\n"
     ]
    },
    {
     "name": "stdout",
     "output_type": "stream",
     "text": [
      "10 클래스 : 총 404 개의 이미지 easiest 증강\n",
      "\n"
     ]
    },
    {
     "name": "stderr",
     "output_type": "stream",
     "text": [
      "Augment class 10 with stilleasy: 100%|██████████| 404/404 [00:01<00:00, 251.56it/s]\n"
     ]
    },
    {
     "name": "stdout",
     "output_type": "stream",
     "text": [
      "10 클래스 : 총 404 개의 이미지 stilleasy 증강\n",
      "\n"
     ]
    },
    {
     "name": "stderr",
     "output_type": "stream",
     "text": [
      "Augment class 10 with middle: 100%|██████████| 403/403 [00:06<00:00, 58.36it/s]\n"
     ]
    },
    {
     "name": "stdout",
     "output_type": "stream",
     "text": [
      "10 클래스 : 총 403 개의 이미지 middle 증강\n",
      "\n",
      "10 클래스 : 총 1615 개의 이미지 증강됨\n",
      "\n",
      "\n",
      "현재 개수: 85\n",
      "목표 증강 개수: 1615\n"
     ]
    },
    {
     "name": "stderr",
     "output_type": "stream",
     "text": [
      "Augment class 2 with eda: 100%|██████████| 404/404 [00:10<00:00, 37.76it/s]\n"
     ]
    },
    {
     "name": "stdout",
     "output_type": "stream",
     "text": [
      "2 클래스 : 총 404 개의 이미지 eda 증강\n",
      "\n"
     ]
    },
    {
     "name": "stderr",
     "output_type": "stream",
     "text": [
      "Augment class 2 with easiest: 100%|██████████| 404/404 [00:01<00:00, 244.58it/s]\n"
     ]
    },
    {
     "name": "stdout",
     "output_type": "stream",
     "text": [
      "2 클래스 : 총 404 개의 이미지 easiest 증강\n",
      "\n"
     ]
    },
    {
     "name": "stderr",
     "output_type": "stream",
     "text": [
      "Augment class 2 with stilleasy: 100%|██████████| 404/404 [00:01<00:00, 257.99it/s]\n"
     ]
    },
    {
     "name": "stdout",
     "output_type": "stream",
     "text": [
      "2 클래스 : 총 404 개의 이미지 stilleasy 증강\n",
      "\n"
     ]
    },
    {
     "name": "stderr",
     "output_type": "stream",
     "text": [
      "Augment class 2 with middle: 100%|██████████| 403/403 [00:07<00:00, 56.59it/s]\n"
     ]
    },
    {
     "name": "stdout",
     "output_type": "stream",
     "text": [
      "2 클래스 : 총 403 개의 이미지 middle 증강\n",
      "\n",
      "2 클래스 : 총 1615 개의 이미지 증강됨\n",
      "\n",
      "\n",
      "현재 개수: 85\n",
      "목표 증강 개수: 1615\n"
     ]
    },
    {
     "name": "stderr",
     "output_type": "stream",
     "text": [
      "Augment class 8 with eda: 100%|██████████| 404/404 [00:10<00:00, 37.18it/s]\n"
     ]
    },
    {
     "name": "stdout",
     "output_type": "stream",
     "text": [
      "8 클래스 : 총 404 개의 이미지 eda 증강\n",
      "\n"
     ]
    },
    {
     "name": "stderr",
     "output_type": "stream",
     "text": [
      "Augment class 8 with easiest: 100%|██████████| 404/404 [00:01<00:00, 233.44it/s]\n"
     ]
    },
    {
     "name": "stdout",
     "output_type": "stream",
     "text": [
      "8 클래스 : 총 404 개의 이미지 easiest 증강\n",
      "\n"
     ]
    },
    {
     "name": "stderr",
     "output_type": "stream",
     "text": [
      "Augment class 8 with stilleasy: 100%|██████████| 404/404 [00:01<00:00, 244.28it/s]\n"
     ]
    },
    {
     "name": "stdout",
     "output_type": "stream",
     "text": [
      "8 클래스 : 총 404 개의 이미지 stilleasy 증강\n",
      "\n"
     ]
    },
    {
     "name": "stderr",
     "output_type": "stream",
     "text": [
      "Augment class 8 with middle: 100%|██████████| 403/403 [00:07<00:00, 55.21it/s]\n"
     ]
    },
    {
     "name": "stdout",
     "output_type": "stream",
     "text": [
      "8 클래스 : 총 403 개의 이미지 middle 증강\n",
      "\n",
      "8 클래스 : 총 1615 개의 이미지 증강됨\n",
      "\n",
      "\n",
      "현재 개수: 63\n",
      "목표 증강 개수: 1637\n"
     ]
    },
    {
     "name": "stderr",
     "output_type": "stream",
     "text": [
      "Augment class 13 with eda: 100%|██████████| 410/410 [00:10<00:00, 37.45it/s]\n"
     ]
    },
    {
     "name": "stdout",
     "output_type": "stream",
     "text": [
      "13 클래스 : 총 410 개의 이미지 eda 증강\n",
      "\n"
     ]
    },
    {
     "name": "stderr",
     "output_type": "stream",
     "text": [
      "Augment class 13 with easiest: 100%|██████████| 409/409 [00:01<00:00, 244.28it/s]\n"
     ]
    },
    {
     "name": "stdout",
     "output_type": "stream",
     "text": [
      "13 클래스 : 총 409 개의 이미지 easiest 증강\n",
      "\n"
     ]
    },
    {
     "name": "stderr",
     "output_type": "stream",
     "text": [
      "Augment class 13 with stilleasy: 100%|██████████| 409/409 [00:01<00:00, 257.85it/s]\n"
     ]
    },
    {
     "name": "stdout",
     "output_type": "stream",
     "text": [
      "13 클래스 : 총 409 개의 이미지 stilleasy 증강\n",
      "\n"
     ]
    },
    {
     "name": "stderr",
     "output_type": "stream",
     "text": [
      "Augment class 13 with middle: 100%|██████████| 409/409 [00:08<00:00, 51.05it/s]\n"
     ]
    },
    {
     "name": "stdout",
     "output_type": "stream",
     "text": [
      "13 클래스 : 총 409 개의 이미지 middle 증강\n",
      "\n",
      "13 클래스 : 총 1637 개의 이미지 증강됨\n",
      "\n",
      "\n",
      "현재 개수: 85\n",
      "목표 증강 개수: 1615\n"
     ]
    },
    {
     "name": "stderr",
     "output_type": "stream",
     "text": [
      "Augment class 16 with eda: 100%|██████████| 404/404 [00:10<00:00, 37.17it/s]\n"
     ]
    },
    {
     "name": "stdout",
     "output_type": "stream",
     "text": [
      "16 클래스 : 총 404 개의 이미지 eda 증강\n",
      "\n"
     ]
    },
    {
     "name": "stderr",
     "output_type": "stream",
     "text": [
      "Augment class 16 with easiest: 100%|██████████| 404/404 [00:01<00:00, 229.14it/s]\n"
     ]
    },
    {
     "name": "stdout",
     "output_type": "stream",
     "text": [
      "16 클래스 : 총 404 개의 이미지 easiest 증강\n",
      "\n"
     ]
    },
    {
     "name": "stderr",
     "output_type": "stream",
     "text": [
      "Augment class 16 with stilleasy: 100%|██████████| 404/404 [00:01<00:00, 235.02it/s]\n"
     ]
    },
    {
     "name": "stdout",
     "output_type": "stream",
     "text": [
      "16 클래스 : 총 404 개의 이미지 stilleasy 증강\n",
      "\n"
     ]
    },
    {
     "name": "stderr",
     "output_type": "stream",
     "text": [
      "Augment class 16 with middle: 100%|██████████| 403/403 [00:07<00:00, 52.43it/s]\n"
     ]
    },
    {
     "name": "stdout",
     "output_type": "stream",
     "text": [
      "16 클래스 : 총 403 개의 이미지 middle 증강\n",
      "\n",
      "16 클래스 : 총 1615 개의 이미지 증강됨\n",
      "\n",
      "\n",
      "현재 개수: 39\n",
      "목표 증강 개수: 1661\n"
     ]
    },
    {
     "name": "stderr",
     "output_type": "stream",
     "text": [
      "Augment class 1 with eda: 100%|██████████| 416/416 [00:11<00:00, 37.02it/s]\n"
     ]
    },
    {
     "name": "stdout",
     "output_type": "stream",
     "text": [
      "1 클래스 : 총 416 개의 이미지 eda 증강\n",
      "\n"
     ]
    },
    {
     "name": "stderr",
     "output_type": "stream",
     "text": [
      "Augment class 1 with easiest: 100%|██████████| 415/415 [00:01<00:00, 229.77it/s]\n"
     ]
    },
    {
     "name": "stdout",
     "output_type": "stream",
     "text": [
      "1 클래스 : 총 415 개의 이미지 easiest 증강\n",
      "\n"
     ]
    },
    {
     "name": "stderr",
     "output_type": "stream",
     "text": [
      "Augment class 1 with stilleasy: 100%|██████████| 415/415 [00:01<00:00, 242.88it/s]\n"
     ]
    },
    {
     "name": "stdout",
     "output_type": "stream",
     "text": [
      "1 클래스 : 총 415 개의 이미지 stilleasy 증강\n",
      "\n"
     ]
    },
    {
     "name": "stderr",
     "output_type": "stream",
     "text": [
      "Augment class 1 with middle: 100%|██████████| 415/415 [00:07<00:00, 52.58it/s]\n"
     ]
    },
    {
     "name": "stdout",
     "output_type": "stream",
     "text": [
      "1 클래스 : 총 415 개의 이미지 middle 증강\n",
      "\n",
      "1 클래스 : 총 1661 개의 이미지 증강됨\n",
      "\n",
      "\n",
      "현재 개수: 85\n",
      "목표 증강 개수: 1615\n"
     ]
    },
    {
     "name": "stderr",
     "output_type": "stream",
     "text": [
      "Augment class 4 with eda: 100%|██████████| 404/404 [00:10<00:00, 37.51it/s]\n"
     ]
    },
    {
     "name": "stdout",
     "output_type": "stream",
     "text": [
      "4 클래스 : 총 404 개의 이미지 eda 증강\n",
      "\n"
     ]
    },
    {
     "name": "stderr",
     "output_type": "stream",
     "text": [
      "Augment class 4 with easiest: 100%|██████████| 404/404 [00:01<00:00, 248.65it/s]\n"
     ]
    },
    {
     "name": "stdout",
     "output_type": "stream",
     "text": [
      "4 클래스 : 총 404 개의 이미지 easiest 증강\n",
      "\n"
     ]
    },
    {
     "name": "stderr",
     "output_type": "stream",
     "text": [
      "Augment class 4 with stilleasy: 100%|██████████| 404/404 [00:01<00:00, 268.94it/s]\n"
     ]
    },
    {
     "name": "stdout",
     "output_type": "stream",
     "text": [
      "4 클래스 : 총 404 개의 이미지 stilleasy 증강\n",
      "\n"
     ]
    },
    {
     "name": "stderr",
     "output_type": "stream",
     "text": [
      "Augment class 4 with middle: 100%|██████████| 403/403 [00:07<00:00, 56.88it/s]\n"
     ]
    },
    {
     "name": "stdout",
     "output_type": "stream",
     "text": [
      "4 클래스 : 총 403 개의 이미지 middle 증강\n",
      "\n",
      "4 클래스 : 총 1615 개의 이미지 증강됨\n",
      "\n",
      "\n",
      "현재 개수: 42\n",
      "목표 증강 개수: 1658\n"
     ]
    },
    {
     "name": "stderr",
     "output_type": "stream",
     "text": [
      "Augment class 14 with eda: 100%|██████████| 415/415 [00:10<00:00, 37.75it/s]\n"
     ]
    },
    {
     "name": "stdout",
     "output_type": "stream",
     "text": [
      "14 클래스 : 총 415 개의 이미지 eda 증강\n",
      "\n"
     ]
    },
    {
     "name": "stderr",
     "output_type": "stream",
     "text": [
      "Augment class 14 with easiest: 100%|██████████| 415/415 [00:01<00:00, 253.54it/s]\n"
     ]
    },
    {
     "name": "stdout",
     "output_type": "stream",
     "text": [
      "14 클래스 : 총 415 개의 이미지 easiest 증강\n",
      "\n"
     ]
    },
    {
     "name": "stderr",
     "output_type": "stream",
     "text": [
      "Augment class 14 with stilleasy: 100%|██████████| 414/414 [00:01<00:00, 264.15it/s]\n"
     ]
    },
    {
     "name": "stdout",
     "output_type": "stream",
     "text": [
      "14 클래스 : 총 414 개의 이미지 stilleasy 증강\n",
      "\n"
     ]
    },
    {
     "name": "stderr",
     "output_type": "stream",
     "text": [
      "Augment class 14 with middle: 100%|██████████| 414/414 [00:07<00:00, 52.44it/s]\n"
     ]
    },
    {
     "name": "stdout",
     "output_type": "stream",
     "text": [
      "14 클래스 : 총 414 개의 이미지 middle 증강\n",
      "\n",
      "14 클래스 : 총 1658 개의 이미지 증강됨\n",
      "\n",
      "\n",
      "현재 개수: 85\n",
      "목표 증강 개수: 1615\n"
     ]
    },
    {
     "name": "stderr",
     "output_type": "stream",
     "text": [
      "Augment class 0 with eda: 100%|██████████| 404/404 [00:10<00:00, 37.48it/s]\n"
     ]
    },
    {
     "name": "stdout",
     "output_type": "stream",
     "text": [
      "0 클래스 : 총 404 개의 이미지 eda 증강\n",
      "\n"
     ]
    },
    {
     "name": "stderr",
     "output_type": "stream",
     "text": [
      "Augment class 0 with easiest: 100%|██████████| 404/404 [00:01<00:00, 261.16it/s]\n"
     ]
    },
    {
     "name": "stdout",
     "output_type": "stream",
     "text": [
      "0 클래스 : 총 404 개의 이미지 easiest 증강\n",
      "\n"
     ]
    },
    {
     "name": "stderr",
     "output_type": "stream",
     "text": [
      "Augment class 0 with stilleasy: 100%|██████████| 404/404 [00:01<00:00, 293.68it/s]\n"
     ]
    },
    {
     "name": "stdout",
     "output_type": "stream",
     "text": [
      "0 클래스 : 총 404 개의 이미지 stilleasy 증강\n",
      "\n"
     ]
    },
    {
     "name": "stderr",
     "output_type": "stream",
     "text": [
      "Augment class 0 with middle: 100%|██████████| 403/403 [00:06<00:00, 58.94it/s]\n"
     ]
    },
    {
     "name": "stdout",
     "output_type": "stream",
     "text": [
      "0 클래스 : 총 403 개의 이미지 middle 증강\n",
      "\n",
      "0 클래스 : 총 1615 개의 이미지 증강됨\n",
      "\n",
      "\n",
      "현재 개수: 15\n",
      "목표 증강 개수: 285\n"
     ]
    },
    {
     "name": "stderr",
     "output_type": "stream",
     "text": [
      "Augment class 7 with eda: 100%|██████████| 72/72 [00:01<00:00, 36.95it/s]\n"
     ]
    },
    {
     "name": "stdout",
     "output_type": "stream",
     "text": [
      "7 클래스 : 총 72 개의 이미지 eda 증강\n",
      "\n"
     ]
    },
    {
     "name": "stderr",
     "output_type": "stream",
     "text": [
      "Augment class 7 with easiest: 100%|██████████| 71/71 [00:00<00:00, 241.33it/s]\n"
     ]
    },
    {
     "name": "stdout",
     "output_type": "stream",
     "text": [
      "7 클래스 : 총 71 개의 이미지 easiest 증강\n",
      "\n"
     ]
    },
    {
     "name": "stderr",
     "output_type": "stream",
     "text": [
      "Augment class 7 with stilleasy: 100%|██████████| 71/71 [00:00<00:00, 265.30it/s]\n"
     ]
    },
    {
     "name": "stdout",
     "output_type": "stream",
     "text": [
      "7 클래스 : 총 71 개의 이미지 stilleasy 증강\n",
      "\n"
     ]
    },
    {
     "name": "stderr",
     "output_type": "stream",
     "text": [
      "Augment class 7 with middle: 100%|██████████| 71/71 [00:01<00:00, 49.16it/s]\n"
     ]
    },
    {
     "name": "stdout",
     "output_type": "stream",
     "text": [
      "7 클래스 : 총 71 개의 이미지 middle 증강\n",
      "\n",
      "7 클래스 : 총 285 개의 이미지 증강됨\n",
      "\n",
      "\n",
      "현재 개수: 8\n",
      "목표 증강 개수: 292\n"
     ]
    },
    {
     "name": "stderr",
     "output_type": "stream",
     "text": [
      "Augment class 14 with eda: 100%|██████████| 73/73 [00:01<00:00, 37.46it/s]\n"
     ]
    },
    {
     "name": "stdout",
     "output_type": "stream",
     "text": [
      "14 클래스 : 총 73 개의 이미지 eda 증강\n",
      "\n"
     ]
    },
    {
     "name": "stderr",
     "output_type": "stream",
     "text": [
      "Augment class 14 with easiest: 100%|██████████| 73/73 [00:00<00:00, 233.15it/s]\n"
     ]
    },
    {
     "name": "stdout",
     "output_type": "stream",
     "text": [
      "14 클래스 : 총 73 개의 이미지 easiest 증강\n",
      "\n"
     ]
    },
    {
     "name": "stderr",
     "output_type": "stream",
     "text": [
      "Augment class 14 with stilleasy: 100%|██████████| 73/73 [00:00<00:00, 250.58it/s]\n"
     ]
    },
    {
     "name": "stdout",
     "output_type": "stream",
     "text": [
      "14 클래스 : 총 73 개의 이미지 stilleasy 증강\n",
      "\n"
     ]
    },
    {
     "name": "stderr",
     "output_type": "stream",
     "text": [
      "Augment class 14 with middle: 100%|██████████| 73/73 [00:01<00:00, 52.75it/s]\n"
     ]
    },
    {
     "name": "stdout",
     "output_type": "stream",
     "text": [
      "14 클래스 : 총 73 개의 이미지 middle 증강\n",
      "\n",
      "14 클래스 : 총 292 개의 이미지 증강됨\n",
      "\n",
      "\n",
      "현재 개수: 15\n",
      "목표 증강 개수: 285\n"
     ]
    },
    {
     "name": "stderr",
     "output_type": "stream",
     "text": [
      "Augment class 12 with eda: 100%|██████████| 72/72 [00:02<00:00, 35.96it/s]\n"
     ]
    },
    {
     "name": "stdout",
     "output_type": "stream",
     "text": [
      "12 클래스 : 총 72 개의 이미지 eda 증강\n",
      "\n"
     ]
    },
    {
     "name": "stderr",
     "output_type": "stream",
     "text": [
      "Augment class 12 with easiest: 100%|██████████| 71/71 [00:00<00:00, 238.70it/s]\n"
     ]
    },
    {
     "name": "stdout",
     "output_type": "stream",
     "text": [
      "12 클래스 : 총 71 개의 이미지 easiest 증강\n",
      "\n"
     ]
    },
    {
     "name": "stderr",
     "output_type": "stream",
     "text": [
      "Augment class 12 with stilleasy: 100%|██████████| 71/71 [00:00<00:00, 240.67it/s]\n"
     ]
    },
    {
     "name": "stdout",
     "output_type": "stream",
     "text": [
      "12 클래스 : 총 71 개의 이미지 stilleasy 증강\n",
      "\n"
     ]
    },
    {
     "name": "stderr",
     "output_type": "stream",
     "text": [
      "Augment class 12 with middle: 100%|██████████| 71/71 [00:01<00:00, 54.27it/s]\n"
     ]
    },
    {
     "name": "stdout",
     "output_type": "stream",
     "text": [
      "12 클래스 : 총 71 개의 이미지 middle 증강\n",
      "\n",
      "12 클래스 : 총 285 개의 이미지 증강됨\n",
      "\n",
      "\n",
      "현재 개수: 15\n",
      "목표 증강 개수: 285\n"
     ]
    },
    {
     "name": "stderr",
     "output_type": "stream",
     "text": [
      "Augment class 15 with eda: 100%|██████████| 72/72 [00:01<00:00, 37.36it/s]\n"
     ]
    },
    {
     "name": "stdout",
     "output_type": "stream",
     "text": [
      "15 클래스 : 총 72 개의 이미지 eda 증강\n",
      "\n"
     ]
    },
    {
     "name": "stderr",
     "output_type": "stream",
     "text": [
      "Augment class 15 with easiest: 100%|██████████| 71/71 [00:00<00:00, 231.62it/s]\n"
     ]
    },
    {
     "name": "stdout",
     "output_type": "stream",
     "text": [
      "15 클래스 : 총 71 개의 이미지 easiest 증강\n",
      "\n"
     ]
    },
    {
     "name": "stderr",
     "output_type": "stream",
     "text": [
      "Augment class 15 with stilleasy: 100%|██████████| 71/71 [00:00<00:00, 229.51it/s]\n"
     ]
    },
    {
     "name": "stdout",
     "output_type": "stream",
     "text": [
      "15 클래스 : 총 71 개의 이미지 stilleasy 증강\n",
      "\n"
     ]
    },
    {
     "name": "stderr",
     "output_type": "stream",
     "text": [
      "Augment class 15 with middle: 100%|██████████| 71/71 [00:01<00:00, 53.89it/s]\n"
     ]
    },
    {
     "name": "stdout",
     "output_type": "stream",
     "text": [
      "15 클래스 : 총 71 개의 이미지 middle 증강\n",
      "\n",
      "15 클래스 : 총 285 개의 이미지 증강됨\n",
      "\n",
      "\n",
      "현재 개수: 15\n",
      "목표 증강 개수: 285\n"
     ]
    },
    {
     "name": "stderr",
     "output_type": "stream",
     "text": [
      "Augment class 8 with eda: 100%|██████████| 72/72 [00:01<00:00, 36.72it/s]\n"
     ]
    },
    {
     "name": "stdout",
     "output_type": "stream",
     "text": [
      "8 클래스 : 총 72 개의 이미지 eda 증강\n",
      "\n"
     ]
    },
    {
     "name": "stderr",
     "output_type": "stream",
     "text": [
      "Augment class 8 with easiest: 100%|██████████| 71/71 [00:00<00:00, 244.01it/s]\n"
     ]
    },
    {
     "name": "stdout",
     "output_type": "stream",
     "text": [
      "8 클래스 : 총 71 개의 이미지 easiest 증강\n",
      "\n"
     ]
    },
    {
     "name": "stderr",
     "output_type": "stream",
     "text": [
      "Augment class 8 with stilleasy: 100%|██████████| 71/71 [00:00<00:00, 244.63it/s]\n"
     ]
    },
    {
     "name": "stdout",
     "output_type": "stream",
     "text": [
      "8 클래스 : 총 71 개의 이미지 stilleasy 증강\n",
      "\n"
     ]
    },
    {
     "name": "stderr",
     "output_type": "stream",
     "text": [
      "Augment class 8 with middle: 100%|██████████| 71/71 [00:01<00:00, 50.24it/s]\n"
     ]
    },
    {
     "name": "stdout",
     "output_type": "stream",
     "text": [
      "8 클래스 : 총 71 개의 이미지 middle 증강\n",
      "\n",
      "8 클래스 : 총 285 개의 이미지 증강됨\n",
      "\n",
      "\n",
      "현재 개수: 11\n",
      "목표 증강 개수: 289\n"
     ]
    },
    {
     "name": "stderr",
     "output_type": "stream",
     "text": [
      "Augment class 13 with eda: 100%|██████████| 73/73 [00:02<00:00, 36.42it/s]\n"
     ]
    },
    {
     "name": "stdout",
     "output_type": "stream",
     "text": [
      "13 클래스 : 총 73 개의 이미지 eda 증강\n",
      "\n"
     ]
    },
    {
     "name": "stderr",
     "output_type": "stream",
     "text": [
      "Augment class 13 with easiest: 100%|██████████| 72/72 [00:00<00:00, 248.09it/s]\n"
     ]
    },
    {
     "name": "stdout",
     "output_type": "stream",
     "text": [
      "13 클래스 : 총 72 개의 이미지 easiest 증강\n",
      "\n"
     ]
    },
    {
     "name": "stderr",
     "output_type": "stream",
     "text": [
      "Augment class 13 with stilleasy: 100%|██████████| 72/72 [00:00<00:00, 253.58it/s]\n"
     ]
    },
    {
     "name": "stdout",
     "output_type": "stream",
     "text": [
      "13 클래스 : 총 72 개의 이미지 stilleasy 증강\n",
      "\n"
     ]
    },
    {
     "name": "stderr",
     "output_type": "stream",
     "text": [
      "Augment class 13 with middle: 100%|██████████| 72/72 [00:01<00:00, 54.58it/s]\n"
     ]
    },
    {
     "name": "stdout",
     "output_type": "stream",
     "text": [
      "13 클래스 : 총 72 개의 이미지 middle 증강\n",
      "\n",
      "13 클래스 : 총 289 개의 이미지 증강됨\n",
      "\n",
      "\n",
      "현재 개수: 15\n",
      "목표 증강 개수: 285\n"
     ]
    },
    {
     "name": "stderr",
     "output_type": "stream",
     "text": [
      "Augment class 0 with eda: 100%|██████████| 72/72 [00:01<00:00, 37.37it/s]\n"
     ]
    },
    {
     "name": "stdout",
     "output_type": "stream",
     "text": [
      "0 클래스 : 총 72 개의 이미지 eda 증강\n",
      "\n"
     ]
    },
    {
     "name": "stderr",
     "output_type": "stream",
     "text": [
      "Augment class 0 with easiest: 100%|██████████| 71/71 [00:00<00:00, 245.14it/s]\n"
     ]
    },
    {
     "name": "stdout",
     "output_type": "stream",
     "text": [
      "0 클래스 : 총 71 개의 이미지 easiest 증강\n",
      "\n"
     ]
    },
    {
     "name": "stderr",
     "output_type": "stream",
     "text": [
      "Augment class 0 with stilleasy: 100%|██████████| 71/71 [00:00<00:00, 266.27it/s]\n"
     ]
    },
    {
     "name": "stdout",
     "output_type": "stream",
     "text": [
      "0 클래스 : 총 71 개의 이미지 stilleasy 증강\n",
      "\n"
     ]
    },
    {
     "name": "stderr",
     "output_type": "stream",
     "text": [
      "Augment class 0 with middle: 100%|██████████| 71/71 [00:01<00:00, 54.84it/s]\n"
     ]
    },
    {
     "name": "stdout",
     "output_type": "stream",
     "text": [
      "0 클래스 : 총 71 개의 이미지 middle 증강\n",
      "\n",
      "0 클래스 : 총 285 개의 이미지 증강됨\n",
      "\n",
      "\n",
      "현재 개수: 15\n",
      "목표 증강 개수: 285\n"
     ]
    },
    {
     "name": "stderr",
     "output_type": "stream",
     "text": [
      "Augment class 11 with eda: 100%|██████████| 72/72 [00:01<00:00, 37.93it/s]\n"
     ]
    },
    {
     "name": "stdout",
     "output_type": "stream",
     "text": [
      "11 클래스 : 총 72 개의 이미지 eda 증강\n",
      "\n"
     ]
    },
    {
     "name": "stderr",
     "output_type": "stream",
     "text": [
      "Augment class 11 with easiest: 100%|██████████| 71/71 [00:00<00:00, 238.65it/s]\n"
     ]
    },
    {
     "name": "stdout",
     "output_type": "stream",
     "text": [
      "11 클래스 : 총 71 개의 이미지 easiest 증강\n",
      "\n"
     ]
    },
    {
     "name": "stderr",
     "output_type": "stream",
     "text": [
      "Augment class 11 with stilleasy: 100%|██████████| 71/71 [00:00<00:00, 227.94it/s]\n"
     ]
    },
    {
     "name": "stdout",
     "output_type": "stream",
     "text": [
      "11 클래스 : 총 71 개의 이미지 stilleasy 증강\n",
      "\n"
     ]
    },
    {
     "name": "stderr",
     "output_type": "stream",
     "text": [
      "Augment class 11 with middle: 100%|██████████| 71/71 [00:01<00:00, 51.92it/s]\n"
     ]
    },
    {
     "name": "stdout",
     "output_type": "stream",
     "text": [
      "11 클래스 : 총 71 개의 이미지 middle 증강\n",
      "\n",
      "11 클래스 : 총 285 개의 이미지 증강됨\n",
      "\n",
      "\n",
      "현재 개수: 15\n",
      "목표 증강 개수: 285\n"
     ]
    },
    {
     "name": "stderr",
     "output_type": "stream",
     "text": [
      "Augment class 3 with eda: 100%|██████████| 72/72 [00:01<00:00, 38.46it/s]\n"
     ]
    },
    {
     "name": "stdout",
     "output_type": "stream",
     "text": [
      "3 클래스 : 총 72 개의 이미지 eda 증강\n",
      "\n"
     ]
    },
    {
     "name": "stderr",
     "output_type": "stream",
     "text": [
      "Augment class 3 with easiest: 100%|██████████| 71/71 [00:00<00:00, 256.97it/s]\n"
     ]
    },
    {
     "name": "stdout",
     "output_type": "stream",
     "text": [
      "3 클래스 : 총 71 개의 이미지 easiest 증강\n",
      "\n"
     ]
    },
    {
     "name": "stderr",
     "output_type": "stream",
     "text": [
      "Augment class 3 with stilleasy: 100%|██████████| 71/71 [00:00<00:00, 282.57it/s]\n"
     ]
    },
    {
     "name": "stdout",
     "output_type": "stream",
     "text": [
      "3 클래스 : 총 71 개의 이미지 stilleasy 증강\n",
      "\n"
     ]
    },
    {
     "name": "stderr",
     "output_type": "stream",
     "text": [
      "Augment class 3 with middle: 100%|██████████| 71/71 [00:01<00:00, 54.91it/s]\n"
     ]
    },
    {
     "name": "stdout",
     "output_type": "stream",
     "text": [
      "3 클래스 : 총 71 개의 이미지 middle 증강\n",
      "\n",
      "3 클래스 : 총 285 개의 이미지 증강됨\n",
      "\n",
      "\n",
      "현재 개수: 15\n",
      "목표 증강 개수: 285\n"
     ]
    },
    {
     "name": "stderr",
     "output_type": "stream",
     "text": [
      "Augment class 16 with eda: 100%|██████████| 72/72 [00:01<00:00, 37.10it/s]\n"
     ]
    },
    {
     "name": "stdout",
     "output_type": "stream",
     "text": [
      "16 클래스 : 총 72 개의 이미지 eda 증강\n",
      "\n"
     ]
    },
    {
     "name": "stderr",
     "output_type": "stream",
     "text": [
      "Augment class 16 with easiest: 100%|██████████| 71/71 [00:00<00:00, 245.84it/s]\n"
     ]
    },
    {
     "name": "stdout",
     "output_type": "stream",
     "text": [
      "16 클래스 : 총 71 개의 이미지 easiest 증강\n",
      "\n"
     ]
    },
    {
     "name": "stderr",
     "output_type": "stream",
     "text": [
      "Augment class 16 with stilleasy: 100%|██████████| 71/71 [00:00<00:00, 249.32it/s]\n"
     ]
    },
    {
     "name": "stdout",
     "output_type": "stream",
     "text": [
      "16 클래스 : 총 71 개의 이미지 stilleasy 증강\n",
      "\n"
     ]
    },
    {
     "name": "stderr",
     "output_type": "stream",
     "text": [
      "Augment class 16 with middle: 100%|██████████| 71/71 [00:01<00:00, 53.45it/s]\n"
     ]
    },
    {
     "name": "stdout",
     "output_type": "stream",
     "text": [
      "16 클래스 : 총 71 개의 이미지 middle 증강\n",
      "\n",
      "16 클래스 : 총 285 개의 이미지 증강됨\n",
      "\n",
      "\n",
      "현재 개수: 15\n",
      "목표 증강 개수: 285\n"
     ]
    },
    {
     "name": "stderr",
     "output_type": "stream",
     "text": [
      "Augment class 2 with eda: 100%|██████████| 72/72 [00:01<00:00, 39.07it/s]\n"
     ]
    },
    {
     "name": "stdout",
     "output_type": "stream",
     "text": [
      "2 클래스 : 총 72 개의 이미지 eda 증강\n",
      "\n"
     ]
    },
    {
     "name": "stderr",
     "output_type": "stream",
     "text": [
      "Augment class 2 with easiest: 100%|██████████| 71/71 [00:00<00:00, 240.42it/s]\n"
     ]
    },
    {
     "name": "stdout",
     "output_type": "stream",
     "text": [
      "2 클래스 : 총 71 개의 이미지 easiest 증강\n",
      "\n"
     ]
    },
    {
     "name": "stderr",
     "output_type": "stream",
     "text": [
      "Augment class 2 with stilleasy: 100%|██████████| 71/71 [00:00<00:00, 245.15it/s]\n"
     ]
    },
    {
     "name": "stdout",
     "output_type": "stream",
     "text": [
      "2 클래스 : 총 71 개의 이미지 stilleasy 증강\n",
      "\n"
     ]
    },
    {
     "name": "stderr",
     "output_type": "stream",
     "text": [
      "Augment class 2 with middle: 100%|██████████| 71/71 [00:01<00:00, 57.65it/s]\n"
     ]
    },
    {
     "name": "stdout",
     "output_type": "stream",
     "text": [
      "2 클래스 : 총 71 개의 이미지 middle 증강\n",
      "\n",
      "2 클래스 : 총 285 개의 이미지 증강됨\n",
      "\n",
      "\n",
      "현재 개수: 15\n",
      "목표 증강 개수: 285\n"
     ]
    },
    {
     "name": "stderr",
     "output_type": "stream",
     "text": [
      "Augment class 4 with eda: 100%|██████████| 72/72 [00:01<00:00, 37.04it/s]\n"
     ]
    },
    {
     "name": "stdout",
     "output_type": "stream",
     "text": [
      "4 클래스 : 총 72 개의 이미지 eda 증강\n",
      "\n"
     ]
    },
    {
     "name": "stderr",
     "output_type": "stream",
     "text": [
      "Augment class 4 with easiest: 100%|██████████| 71/71 [00:00<00:00, 234.71it/s]\n"
     ]
    },
    {
     "name": "stdout",
     "output_type": "stream",
     "text": [
      "4 클래스 : 총 71 개의 이미지 easiest 증강\n",
      "\n"
     ]
    },
    {
     "name": "stderr",
     "output_type": "stream",
     "text": [
      "Augment class 4 with stilleasy: 100%|██████████| 71/71 [00:00<00:00, 268.73it/s]\n"
     ]
    },
    {
     "name": "stdout",
     "output_type": "stream",
     "text": [
      "4 클래스 : 총 71 개의 이미지 stilleasy 증강\n",
      "\n"
     ]
    },
    {
     "name": "stderr",
     "output_type": "stream",
     "text": [
      "Augment class 4 with middle: 100%|██████████| 71/71 [00:01<00:00, 51.74it/s]\n"
     ]
    },
    {
     "name": "stdout",
     "output_type": "stream",
     "text": [
      "4 클래스 : 총 71 개의 이미지 middle 증강\n",
      "\n",
      "4 클래스 : 총 285 개의 이미지 증강됨\n",
      "\n",
      "\n",
      "현재 개수: 15\n",
      "목표 증강 개수: 285\n"
     ]
    },
    {
     "name": "stderr",
     "output_type": "stream",
     "text": [
      "Augment class 5 with eda: 100%|██████████| 72/72 [00:01<00:00, 36.91it/s]\n"
     ]
    },
    {
     "name": "stdout",
     "output_type": "stream",
     "text": [
      "5 클래스 : 총 72 개의 이미지 eda 증강\n",
      "\n"
     ]
    },
    {
     "name": "stderr",
     "output_type": "stream",
     "text": [
      "Augment class 5 with easiest: 100%|██████████| 71/71 [00:00<00:00, 247.68it/s]\n"
     ]
    },
    {
     "name": "stdout",
     "output_type": "stream",
     "text": [
      "5 클래스 : 총 71 개의 이미지 easiest 증강\n",
      "\n"
     ]
    },
    {
     "name": "stderr",
     "output_type": "stream",
     "text": [
      "Augment class 5 with stilleasy: 100%|██████████| 71/71 [00:00<00:00, 243.19it/s]\n"
     ]
    },
    {
     "name": "stdout",
     "output_type": "stream",
     "text": [
      "5 클래스 : 총 71 개의 이미지 stilleasy 증강\n",
      "\n"
     ]
    },
    {
     "name": "stderr",
     "output_type": "stream",
     "text": [
      "Augment class 5 with middle: 100%|██████████| 71/71 [00:01<00:00, 50.08it/s]\n"
     ]
    },
    {
     "name": "stdout",
     "output_type": "stream",
     "text": [
      "5 클래스 : 총 71 개의 이미지 middle 증강\n",
      "\n",
      "5 클래스 : 총 285 개의 이미지 증강됨\n",
      "\n",
      "\n",
      "현재 개수: 15\n",
      "목표 증강 개수: 285\n"
     ]
    },
    {
     "name": "stderr",
     "output_type": "stream",
     "text": [
      "Augment class 10 with eda: 100%|██████████| 72/72 [00:01<00:00, 37.60it/s]\n"
     ]
    },
    {
     "name": "stdout",
     "output_type": "stream",
     "text": [
      "10 클래스 : 총 72 개의 이미지 eda 증강\n",
      "\n"
     ]
    },
    {
     "name": "stderr",
     "output_type": "stream",
     "text": [
      "Augment class 10 with easiest: 100%|██████████| 71/71 [00:00<00:00, 222.92it/s]\n"
     ]
    },
    {
     "name": "stdout",
     "output_type": "stream",
     "text": [
      "10 클래스 : 총 71 개의 이미지 easiest 증강\n",
      "\n"
     ]
    },
    {
     "name": "stderr",
     "output_type": "stream",
     "text": [
      "Augment class 10 with stilleasy: 100%|██████████| 71/71 [00:00<00:00, 250.03it/s]\n"
     ]
    },
    {
     "name": "stdout",
     "output_type": "stream",
     "text": [
      "10 클래스 : 총 71 개의 이미지 stilleasy 증강\n",
      "\n"
     ]
    },
    {
     "name": "stderr",
     "output_type": "stream",
     "text": [
      "Augment class 10 with middle: 100%|██████████| 71/71 [00:01<00:00, 57.09it/s]\n"
     ]
    },
    {
     "name": "stdout",
     "output_type": "stream",
     "text": [
      "10 클래스 : 총 71 개의 이미지 middle 증강\n",
      "\n",
      "10 클래스 : 총 285 개의 이미지 증강됨\n",
      "\n",
      "\n",
      "현재 개수: 15\n",
      "목표 증강 개수: 285\n"
     ]
    },
    {
     "name": "stderr",
     "output_type": "stream",
     "text": [
      "Augment class 9 with eda: 100%|██████████| 72/72 [00:01<00:00, 38.18it/s]\n"
     ]
    },
    {
     "name": "stdout",
     "output_type": "stream",
     "text": [
      "9 클래스 : 총 72 개의 이미지 eda 증강\n",
      "\n"
     ]
    },
    {
     "name": "stderr",
     "output_type": "stream",
     "text": [
      "Augment class 9 with easiest: 100%|██████████| 71/71 [00:00<00:00, 216.98it/s]\n"
     ]
    },
    {
     "name": "stdout",
     "output_type": "stream",
     "text": [
      "9 클래스 : 총 71 개의 이미지 easiest 증강\n",
      "\n"
     ]
    },
    {
     "name": "stderr",
     "output_type": "stream",
     "text": [
      "Augment class 9 with stilleasy: 100%|██████████| 71/71 [00:00<00:00, 244.31it/s]\n"
     ]
    },
    {
     "name": "stdout",
     "output_type": "stream",
     "text": [
      "9 클래스 : 총 71 개의 이미지 stilleasy 증강\n",
      "\n"
     ]
    },
    {
     "name": "stderr",
     "output_type": "stream",
     "text": [
      "Augment class 9 with middle: 100%|██████████| 71/71 [00:01<00:00, 59.36it/s]\n"
     ]
    },
    {
     "name": "stdout",
     "output_type": "stream",
     "text": [
      "9 클래스 : 총 71 개의 이미지 middle 증강\n",
      "\n",
      "9 클래스 : 총 285 개의 이미지 증강됨\n",
      "\n",
      "\n",
      "현재 개수: 15\n",
      "목표 증강 개수: 285\n"
     ]
    },
    {
     "name": "stderr",
     "output_type": "stream",
     "text": [
      "Augment class 6 with eda: 100%|██████████| 72/72 [00:01<00:00, 36.42it/s]\n"
     ]
    },
    {
     "name": "stdout",
     "output_type": "stream",
     "text": [
      "6 클래스 : 총 72 개의 이미지 eda 증강\n",
      "\n"
     ]
    },
    {
     "name": "stderr",
     "output_type": "stream",
     "text": [
      "Augment class 6 with easiest: 100%|██████████| 71/71 [00:00<00:00, 206.65it/s]\n"
     ]
    },
    {
     "name": "stdout",
     "output_type": "stream",
     "text": [
      "6 클래스 : 총 71 개의 이미지 easiest 증강\n",
      "\n"
     ]
    },
    {
     "name": "stderr",
     "output_type": "stream",
     "text": [
      "Augment class 6 with stilleasy: 100%|██████████| 71/71 [00:00<00:00, 213.37it/s]\n"
     ]
    },
    {
     "name": "stdout",
     "output_type": "stream",
     "text": [
      "6 클래스 : 총 71 개의 이미지 stilleasy 증강\n",
      "\n"
     ]
    },
    {
     "name": "stderr",
     "output_type": "stream",
     "text": [
      "Augment class 6 with middle: 100%|██████████| 71/71 [00:01<00:00, 54.07it/s]\n"
     ]
    },
    {
     "name": "stdout",
     "output_type": "stream",
     "text": [
      "6 클래스 : 총 71 개의 이미지 middle 증강\n",
      "\n",
      "6 클래스 : 총 285 개의 이미지 증강됨\n",
      "\n",
      "\n",
      "현재 개수: 7\n",
      "목표 증강 개수: 293\n"
     ]
    },
    {
     "name": "stderr",
     "output_type": "stream",
     "text": [
      "Augment class 1 with eda: 100%|██████████| 74/74 [00:01<00:00, 38.93it/s]\n"
     ]
    },
    {
     "name": "stdout",
     "output_type": "stream",
     "text": [
      "1 클래스 : 총 74 개의 이미지 eda 증강\n",
      "\n"
     ]
    },
    {
     "name": "stderr",
     "output_type": "stream",
     "text": [
      "Augment class 1 with easiest: 100%|██████████| 73/73 [00:00<00:00, 249.29it/s]\n"
     ]
    },
    {
     "name": "stdout",
     "output_type": "stream",
     "text": [
      "1 클래스 : 총 73 개의 이미지 easiest 증강\n",
      "\n"
     ]
    },
    {
     "name": "stderr",
     "output_type": "stream",
     "text": [
      "Augment class 1 with stilleasy: 100%|██████████| 73/73 [00:00<00:00, 261.54it/s]\n"
     ]
    },
    {
     "name": "stdout",
     "output_type": "stream",
     "text": [
      "1 클래스 : 총 73 개의 이미지 stilleasy 증강\n",
      "\n"
     ]
    },
    {
     "name": "stderr",
     "output_type": "stream",
     "text": [
      "Augment class 1 with middle: 100%|██████████| 73/73 [00:01<00:00, 49.83it/s]\n"
     ]
    },
    {
     "name": "stdout",
     "output_type": "stream",
     "text": [
      "1 클래스 : 총 73 개의 이미지 middle 증강\n",
      "\n",
      "1 클래스 : 총 293 개의 이미지 증강됨\n",
      "\n"
     ]
    },
    {
     "name": "stderr",
     "output_type": "stream",
     "text": [
      "Copy original images to /data/ephemeral/home/upstageailab-cv-classification-cv_5/data/aug_train: 100%|██████████| 1334/1334 [00:00<00:00, 5679.31it/s]\n",
      "Copy original images to /data/ephemeral/home/upstageailab-cv-classification-cv_5/data/aug_val: 100%|██████████| 236/236 [00:00<00:00, 4961.93it/s]\n"
     ]
    },
    {
     "name": "stdout",
     "output_type": "stream",
     "text": [
      "✅ 오프라인 증강 완료\n",
      "✅ 목표 훈련 데이터 수 : 28900  증강 완료된 훈련 데이터 수 : 28900\n",
      "✅ 목표 검증 데이터 수 : 5100  증강 완료된 검증 데이터 수 : 5100\n"
     ]
    }
   ],
   "source": [
    "data_dir = \"/data/ephemeral/home/upstageailab-cv-classification-cv_5/data\"\n",
    "\n",
    "df = pd.read_csv(os.path.join(data_dir, \"train0705a.csv\"))\n",
    "# Train-validation 분할\n",
    "train_df, val_df = train_test_split(df, test_size=cfg.val_split_ratio, random_state=cfg.random_seed, stratify=df['target'] if cfg.stratify else None)\n",
    "\n",
    "# 전체 목표 샘플 수\n",
    "target_per_class = cfg.offline_aug['max_samples']\n",
    "\n",
    "# train/val 분할 비율\n",
    "train_ratio = 1 - cfg.val_split_ratio\n",
    "val_ratio = cfg.val_split_ratio\n",
    "\n",
    "train_targets_goal = int(target_per_class * train_ratio)  # 예: 500 * 0.85 = 425\n",
    "val_targets_goal = int(target_per_class * val_ratio)      # 예: 500 * 0.15 = 75\n",
    "\n",
    "# 오프라인 증강 수행 (함수에 목표 정수 전달)\n",
    "if hasattr(cfg, 'offline_aug') and cfg.offline_aug:\n",
    "    augment_offline_dataset(cfg, train_df, val_df, train_targets_goal, val_targets_goal)\n",
    "else:\n",
    "    print(\"⚠️ 오프라인 증강을 수행하지 않습니다.\")"
   ]
  },
  {
   "cell_type": "code",
   "execution_count": 54,
   "id": "b56f2ac6",
   "metadata": {},
   "outputs": [],
   "source": [
    "df1 = pd.read_csv(os.path.join(data_dir, \"train_plus_augmented.csv\"))\n",
    "df2 = pd.read_csv(os.path.join(data_dir, \"val_plus_augmented.csv\"))"
   ]
  },
  {
   "cell_type": "code",
   "execution_count": 55,
   "id": "d83b1884",
   "metadata": {},
   "outputs": [],
   "source": [
    "df_merged = pd.concat([df1, df2], ignore_index=True)\n",
    "df_merged = df_merged.drop_duplicates()"
   ]
  },
  {
   "cell_type": "code",
   "execution_count": 56,
   "id": "e874d2e9",
   "metadata": {},
   "outputs": [
    {
     "name": "stdout",
     "output_type": "stream",
     "text": [
      "✅ df_merged shape: (34000, 2)\n",
      "✅ df_merged row count: 34000\n"
     ]
    }
   ],
   "source": [
    "print(f\"✅ df_merged shape: {df_merged.shape}\")\n",
    "print(f\"✅ df_merged row count: {len(df_merged)}\")"
   ]
  },
  {
   "cell_type": "code",
   "execution_count": 59,
   "id": "a5209dde",
   "metadata": {},
   "outputs": [],
   "source": [
    "df_merged.to_csv(os.path.join(data_dir, \"aug_data_2000_new1/train.csv\"), index=False)"
   ]
  },
  {
   "cell_type": "code",
   "execution_count": 57,
   "id": "2ae58a4d",
   "metadata": {},
   "outputs": [
    {
     "name": "stderr",
     "output_type": "stream",
     "text": [
      "Moving aug_val -> aug_train:   0%|          | 0/5100 [00:00<?, ?it/s]"
     ]
    },
    {
     "name": "stderr",
     "output_type": "stream",
     "text": [
      "Moving aug_val -> aug_train: 100%|██████████| 5100/5100 [00:00<00:00, 39278.13it/s]\n"
     ]
    }
   ],
   "source": [
    "import os\n",
    "import shutil\n",
    "from tqdm import tqdm\n",
    "\n",
    "def simple_merge_and_rename(train_dir, val_dir):\n",
    "    # val_dir의 파일을 train_dir로 이동\n",
    "    val_files = [f for f in os.listdir(val_dir) if os.path.isfile(os.path.join(val_dir, f))]\n",
    "    for f in tqdm(val_files, desc=\"Moving aug_val -> aug_train\"):\n",
    "        src = os.path.join(val_dir, f)\n",
    "        dst = os.path.join(train_dir, f)\n",
    "        shutil.move(src, dst)\n",
    "\n",
    "    # 빈 val_dir 삭제\n",
    "    os.rmdir(val_dir)\n",
    "\n",
    "aug_train_dir = os.path.join(data_dir, \"aug_train\")\n",
    "aug_val_dir = os.path.join(data_dir, \"aug_val\")\n",
    "\n",
    "simple_merge_and_rename(aug_train_dir, aug_val_dir)\n"
   ]
  },
  {
   "cell_type": "code",
   "execution_count": 58,
   "id": "e6b79d21",
   "metadata": {},
   "outputs": [
    {
     "name": "stdout",
     "output_type": "stream",
     "text": [
      "📂 '/data/ephemeral/home/upstageailab-cv-classification-cv_5/data/aug_train' 안의 파일 수: 34000개\n"
     ]
    }
   ],
   "source": [
    "import os\n",
    "\n",
    "file_count = len([\n",
    "    f for f in os.listdir(aug_train_dir)\n",
    "    if os.path.isfile(os.path.join(aug_train_dir, f))\n",
    "])\n",
    "\n",
    "print(f\"📂 '{aug_train_dir}' 안의 파일 수: {file_count}개\")"
   ]
  },
  {
   "cell_type": "code",
   "execution_count": null,
   "id": "57dd1a97",
   "metadata": {},
   "outputs": [],
   "source": []
  }
 ],
 "metadata": {
  "kernelspec": {
   "display_name": "base",
   "language": "python",
   "name": "python3"
  },
  "language_info": {
   "codemirror_mode": {
    "name": "ipython",
    "version": 3
   },
   "file_extension": ".py",
   "mimetype": "text/x-python",
   "name": "python",
   "nbconvert_exporter": "python",
   "pygments_lexer": "ipython3",
   "version": "3.10.13"
  }
 },
 "nbformat": 4,
 "nbformat_minor": 5
}
