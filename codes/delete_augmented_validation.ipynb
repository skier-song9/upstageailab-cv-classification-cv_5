{
 "cells": [
  {
   "cell_type": "code",
   "execution_count": 6,
   "id": "4a4e2279",
   "metadata": {},
   "outputs": [],
   "source": [
    "import os\n",
    "from tqdm import tqdm\n",
    "from concurrent.futures import ThreadPoolExecutor, as_completed # 멀티스레딩을 위한 모듈\n",
    "def delete_offline_augmented_images_multithreaded(project_dir, data_dir, num_threads=None):\n",
    "    \"\"\"\n",
    "    오프라인 증강된 이미지를 멀티스레딩을 사용하여 효율적으로 삭제합니다.\n",
    "\n",
    "    Args:\n",
    "        cfg: 설정 객체 (cfg.data_dir을 포함해야 합니다).\n",
    "        augmented_ids: 삭제할 이미지 파일 이름(경로 제외) 리스트.\n",
    "        num_threads: 사용할 스레드 개수. None이면 CPU 코어 수에 따라 자동으로 결정됩니다.\n",
    "                     (일반적으로 파일 I/O는 I/O 바운드 작업이므로 CPU 코어 수보다 많게 설정해도 유리할 수 있습니다.)\n",
    "    \"\"\"\n",
    "    train_dir = os.path.join(project_dir, data_dir, 'train')\n",
    "    deleted_count = 0\n",
    "    wrong_filenames = []\n",
    "    to_del = []\n",
    "    for filename in os.listdir(train_dir):\n",
    "        # 파일 이름이 \"val\"로 시작하고 파일인 경우\n",
    "        if filename.startswith(\"val\") and os.path.isfile(os.path.join(train_dir, filename)):\n",
    "            file_path = os.path.join(train_dir, filename)\n",
    "            to_del.append(file_path)\n",
    "\n",
    "    # 스레드 풀 생성 (num_threads가 None이면 기본값으로 설정됨)\n",
    "    # 파일 I/O 작업은 CPU 바운드라기보다는 I/O 바운드이므로, num_threads를 CPU 코어 수보다 높게 설정해도 좋습니다.\n",
    "    # 하지만 너무 높게 설정하면 오버헤드가 발생할 수 있으니 적절한 값을 찾아야 합니다.\n",
    "    # 일반적으로 넉넉하게 10-30 사이의 값을 시도해볼 수 있습니다.\n",
    "    with ThreadPoolExecutor(max_workers=num_threads) as executor:\n",
    "        # 각 파일 삭제 작업을 스레드 풀에 제출\n",
    "        # executor.submit(함수, 인자1, 인자2, ...)\n",
    "        futures = {executor.submit(_delete_single_image, train_dir, filename): filename for filename in to_del}\n",
    "\n",
    "        # tqdm을 사용하여 진행 상황 표시\n",
    "        # as_completed는 제출된 작업이 완료되는 순서대로 Future 객체를 반환합니다.\n",
    "        for future in tqdm(as_completed(futures), total=len(to_del), desc=\"이미지 삭제 중\"):\n",
    "            filename = futures[future]\n",
    "            try:\n",
    "                # 작업 결과를 가져옴 (삭제 성공 여부)\n",
    "                result = future.result()\n",
    "                if result:\n",
    "                    deleted_count += 1\n",
    "                else:\n",
    "                    wrong_filenames.append(filename) # 삭제 실패 시 기록\n",
    "            except Exception as exc:\n",
    "                # 스레드 내에서 예외 발생 시 처리\n",
    "                print(f'{filename} 삭제 중 예외 발생: {exc}')\n",
    "                wrong_filenames.append(filename)\n",
    "\n",
    "    print(f\"{deleted_count}개 이미지 제거 완료.\")\n",
    "    if wrong_filenames:\n",
    "        print(f\"삭제에 실패했거나 찾을 수 없는 파일: {len(wrong_filenames)}개\")\n",
    "        for wrong_file in wrong_filenames:\n",
    "            print(f\"  - {os.path.join(train_dir, wrong_file)}\")\n",
    "\n",
    "def _delete_single_image(train_dir, filename):\n",
    "    \"\"\"\n",
    "    단일 이미지를 삭제하는 헬퍼 함수. 멀티스레딩 작업에 사용됩니다.\n",
    "    \"\"\"\n",
    "    file_path = os.path.join(train_dir, filename)\n",
    "    if os.path.exists(file_path):\n",
    "        try:\n",
    "            os.remove(file_path)\n",
    "            return True  # 성공적으로 삭제됨\n",
    "        except OSError as e:\n",
    "            # 권한 문제 등으로 삭제 실패 시\n",
    "            # print(f\"파일 삭제 오류: {file_path} - {e}\")\n",
    "            return False\n",
    "    else:\n",
    "        # print(\"Wrong filename:\", file_path) # tqdm 사용 시 print가 너무 많아질 수 있으므로 주석 처리하거나 로그에 기록\n",
    "        return False # 파일이 존재하지 않음"
   ]
  },
  {
   "cell_type": "code",
   "execution_count": 12,
   "id": "46b0db48",
   "metadata": {},
   "outputs": [
    {
     "name": "stderr",
     "output_type": "stream",
     "text": [
      "이미지 삭제 중: 0it [00:00, ?it/s]"
     ]
    },
    {
     "name": "stdout",
     "output_type": "stream",
     "text": [
      "0개 이미지 제거 완료.\n"
     ]
    },
    {
     "name": "stderr",
     "output_type": "stream",
     "text": [
      "\n"
     ]
    }
   ],
   "source": [
    "project_root = '/data/ephemeral/home/upstageailab-cv-classification-cv_5/'\n",
    "data_dirname = 'aug_data_500_new1'\n",
    "\n",
    "delete_offline_augmented_images_multithreaded(project_root, data_dirname, num_threads=12)"
   ]
  },
  {
   "cell_type": "code",
   "execution_count": null,
   "id": "0cb85736",
   "metadata": {},
   "outputs": [],
   "source": []
  }
 ],
 "metadata": {
  "kernelspec": {
   "display_name": "base",
   "language": "python",
   "name": "python3"
  },
  "language_info": {
   "codemirror_mode": {
    "name": "ipython",
    "version": 3
   },
   "file_extension": ".py",
   "mimetype": "text/x-python",
   "name": "python",
   "nbconvert_exporter": "python",
   "pygments_lexer": "ipython3",
   "version": "3.10.13"
  }
 },
 "nbformat": 4,
 "nbformat_minor": 5
}
